{
 "cells": [
  {
   "cell_type": "markdown",
   "metadata": {},
   "source": [
    "## 　　　データをSVMで予測してみる"
   ]
  },
  {
   "cell_type": "markdown",
   "metadata": {},
   "source": [
    "### SVMとは\n",
    "- 「本当に予測に必要となる一部のデータ（サポートベクトル）」を用いた機械学習方法\n",
    "- 境界の近くにあるデータ（サポートベクトル）に対し，境界との距離（マージン）が大きくなるように学習する（マージン最大化）\n",
    "\n",
    "#### 問題\n",
    "- データを２値分類する問題には優れているが，多クラスの分類にそのまま適用できず，計算量が多い...などなど，一概に誤差逆伝搬法などと比較して優れていると言い切れるものではない．\n"
   ]
  },
  {
   "cell_type": "code",
   "execution_count": null,
   "metadata": {},
   "outputs": [],
   "source": []
  }
 ],
 "metadata": {
  "kernelspec": {
   "display_name": "Python 3",
   "language": "python",
   "name": "python3"
  },
  "language_info": {
   "codemirror_mode": {
    "name": "ipython",
    "version": 3
   },
   "file_extension": ".py",
   "mimetype": "text/x-python",
   "name": "python",
   "nbconvert_exporter": "python",
   "pygments_lexer": "ipython3",
   "version": "3.7.4"
  }
 },
 "nbformat": 4,
 "nbformat_minor": 4
}
